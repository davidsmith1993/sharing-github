{
 "cells": [
  {
   "cell_type": "markdown",
   "metadata": {},
   "source": [
    "# Comparing Reddit Comment Scores Based on Religious Text"
   ]
  },
  {
   "cell_type": "code",
   "execution_count": null,
   "metadata": {},
   "outputs": [],
   "source": [
    "This is a graph looking at the avereage comment score on Reddit for comments that mention words associated with Christianity, Judaism, Islam, or General Religion. In general, comments with religious text, outside of purely christian text, perform worse."
   ]
  },
  {
   "cell_type": "code",
   "execution_count": null,
   "metadata": {},
   "outputs": [],
   "source": [
    "import pandas as pd\n",
    "pos = pd.read_csv('C:/Users/Pablo/Desktop/DataIncubator/Reddit Data Set/comments_positive.csv')\n",
    "neg = pd.read_csv('C:/Users/Pablo/Desktop/DataIncubator/Reddit Data Set/comments_negative.csv')\n",
    "pos =  pos.sample(n=50000, random_state=12)\n",
    "neg =  neg.sample(n=50000, random_state=12)\n",
    "total = pd.concat([pos,neg])\n",
    "total = total.dropna()"
   ]
  },
  {
   "cell_type": "code",
   "execution_count": 3,
   "metadata": {},
   "outputs": [],
   "source": [
    "\"\"\"\n",
    "First real question of the data set\n",
    "Does religious text predict comment score?\n",
    "\"\"\"\n",
    "#Lets define some religious text (non extensive of course)\n",
    "christian_text = ('god|christian|jesus|faith|church|catholic|protestant|evangelical|christ|lord|baptist|orthodox|worship|bible|lutheran')\n",
    "judiasm_text = ('judaism|jew|isreal|holocaust|hebrew|passover|synagogue|yiddish|jewish|isrealite|hannukah|yom kippur')\n",
    "islam_text = ('muslim|sunni|islam|islamic|arabic|islamist|muhammad|shiite')\n",
    "#now, create a variable in the data set for mentions of the text. \n",
    "#The text column is the one of interest\n",
    "total['christian_text'] = total['text'].str.contains(christian_text, case = False)\n",
    "total['judiasm_text'] = total['text'].str.contains(judiasm_text, case = False)\n",
    "total['islam_text'] = total['text'].str.contains(islam_text, case = False)\n",
    "total['religion_text'] = total['text'].str.contains('religion', case = False)\n",
    "\n",
    "\n",
    "\n",
    "\n",
    "\n",
    "total['christian_text'].sum()\n",
    "total['judiasm_text'].sum()\n",
    "total['islam_text'].sum()\n",
    "total['religion_text'].sum()\n",
    "\n",
    "a = total['score'].mean()\n",
    "b = total.groupby('christian_text')['score'].mean()[True]\n",
    "c = total.groupby('judiasm_text')['score'].mean()[True]\n",
    "d = total.groupby('islam_text')['score'].mean()[True]\n",
    "e = total.groupby('religion_text')['score'].mean()[True]\n",
    "\n",
    "data = (a, b, c, d, e)"
   ]
  },
  {
   "cell_type": "code",
   "execution_count": null,
   "metadata": {},
   "outputs": [
    {
     "data": {
      "image/png": "[encoded data removed]",
      "text/plain": [
       "<Figure size 432x288 with 1 Axes>"
      ]
     },
     "metadata": {
      "needs_background": "light"
     },
     "output_type": "display_data"
    }
   ],
   "source": [
    "import matplotlib.pyplot as plt\n",
    "\n",
    "%matplotlib inline\n",
    "ax = plt.bar(('Average','Christian','Judiasm','Islam','Religious'), data)\n",
    "plt.ylabel('Comment Score')\n",
    "plt.title('Average Comment Score')\n",
    "plt.show()"
   ]
  },
  {
   "cell_type": "code",
   "execution_count": null,
   "metadata": {},
   "outputs": [
    {
     "name": "stdout",
     "output_type": "stream",
     "text": [
      "(93.18504740189607, 85.25228059138094, 54.577639751552795, 44.080178173719375, 40.653333333333336)\n"
     ]
    }
   ],
   "source": [
    "print(data)"
   ]
  },
  {
   "cell_type": "code",
   "execution_count": null,
   "metadata": {},
   "outputs": [],
   "source": []
  },
  {
   "cell_type": "code",
   "execution_count": null,
   "metadata": {},
   "outputs": [],
   "source": []
  }
 ],
 "metadata": {
  "kernelspec": {
   "display_name": "Python 3",
   "language": "python",
   "name": "python3"
  },
  "language_info": {
   "codemirror_mode": {
    "name": "ipython",
    "version": 3
   },
   "file_extension": ".py",
   "mimetype": "text/x-python",
   "name": "python",
   "nbconvert_exporter": "python",
   "pygments_lexer": "ipython3",
   "version": "3.7.3"
  }
 },
 "nbformat": 4,
 "nbformat_minor": 2
}
