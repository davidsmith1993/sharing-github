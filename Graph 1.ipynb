{
 "cells": [
  {
   "cell_type": "markdown",
   "metadata": {},
   "source": [
    "# Comparing Reddit Comment Scores Based on Religious Text"
   ]
  },
  {
   "cell_type": "markdown",
   "metadata": {},
   "source": [
    "This is a graph looking at the avereage comment score on Reddit for comments that mention words associated with Republicans, Democrats, or general politics. In general, comments with political words have a lower score than average."
   ]
  },
  {
   "cell_type": "code",
   "execution_count": 2,
   "metadata": {},
   "outputs": [],
   "source": [
    "import pandas as pd\n",
    "pos = pd.read_csv('C:/Users/Pablo/Desktop/DataIncubator/Reddit Data Set/comments_positive.csv')\n",
    "neg = pd.read_csv('C:/Users/Pablo/Desktop/DataIncubator/Reddit Data Set/comments_negative.csv')\n",
    "pos =  pos.sample(n=50000, random_state=12)\n",
    "neg =  neg.sample(n=50000, random_state=12)\n",
    "total = pd.concat([pos,neg])\n",
    "total = total.dropna()"
   ]
  },
  {
   "cell_type": "code",
   "execution_count": 3,
   "metadata": {},
   "outputs": [],
   "source": [
    "#Look at politics too\n",
    "Republican_text = ('Donald|Trump|DonaldTrump|Pence|Romney|Reagan|Gop|Polanski|Republican|conservative|Mccain')\n",
    "Democrat_text = ('Clinton|Hillary|Sanders|Yang|Bernie|Sanders|Biden|Obama|Barack|Democrat|Pelosi|Huckabee')\n",
    "Politics_text = ('politic|politics|president|government|political|state|politicion|vote|law|governor|court|supreme|justice|police|federal|office|impeach|political party|dictator|legal|illegal|lobby')\n",
    "\n",
    "\n",
    "total['Republican_text'] = total['text'].str.contains(Republican_text, case = False)\n",
    "total['Democrat_text'] = total['text'].str.contains(Democrat_text, case = False)\n",
    "total['Politics_text'] = total['text'].str.contains(Politics_text, case = False)\n",
    "\n",
    "total['Politics_text'].sum()\n",
    "total['Republican_text'].sum()\n",
    "total['Democrat_text'].sum()\n",
    "total.groupby('Republican_text')['score'].mean()\n",
    "total.groupby('Democrat_text')['score'].mean()\n",
    "total.groupby('Politics_text')['score'].mean()\n",
    "\n",
    "\n",
    "\"\"\"Going to add a couple bar graphs to compare comment scores\"\"\"\n",
    "\n",
    "a = total.groupby('Republican_text')['score'].mean()[True]\n",
    "b = total.groupby('Democrat_text')['score'].mean()[True]\n",
    "c = total.groupby('Politics_text')['score'].mean()[True]\n",
    "d = total['score'].mean()\n",
    "data = (a, b, c, d)\n"
   ]
  },
  {
   "cell_type": "code",
   "execution_count": 6,
   "metadata": {},
   "outputs": [
    {
     "data": {
      "image/png": "[encoded data removed]",
      "text/plain": [
       "<Figure size 432x288 with 1 Axes>"
      ]
     },
     "metadata": {
      "needs_background": "light"
     },
     "output_type": "display_data"
    }
   ],
   "source": [
    "import matplotlib.pyplot as plt\n",
    "ax = plt.bar(('Republican','Democrat','Politics','Average'), data)\n",
    "plt.ylabel('Comment Score')\n",
    "plt.title('Average Comment Score')\n",
    "plt.show()\n",
    "\n"
   ]
  },
  {
   "cell_type": "code",
   "execution_count": null,
   "metadata": {},
   "outputs": [],
   "source": []
  }
 ],
 "metadata": {
  "kernelspec": {
   "display_name": "Python 3",
   "language": "python",
   "name": "python3"
  },
  "language_info": {
   "codemirror_mode": {
    "name": "ipython",
    "version": 3
   },
   "file_extension": ".py",
   "mimetype": "text/x-python",
   "name": "python",
   "nbconvert_exporter": "python",
   "pygments_lexer": "ipython3",
   "version": "3.7.3"
  }
 },
 "nbformat": 4,
 "nbformat_minor": 2
}
