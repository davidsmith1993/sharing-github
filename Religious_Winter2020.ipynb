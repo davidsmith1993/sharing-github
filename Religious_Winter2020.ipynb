{
 "cells": [
  {
   "cell_type": "markdown",
   "metadata": {},
   "source": [
    "# Comparing Reddit Comment Scores Based on Religious Text"
   ]
  },
  {
   "cell_type": "markdown",
   "metadata": {},
   "source": [
    "This is a graph looking at the avereage comment score on Reddit for comments that mention words associated with Christianity, Judaism, Islam, or General Religion. \n",
    "In general, comments with text regarding Judaism perform worse if they are positive and the overall sentiment has no effect\n",
    "on comments regarding Christianity."
   ]
  },
  {
   "cell_type": "code",
   "execution_count": null,
   "metadata": {},
   "outputs": [],
   "source": [
    "#First we need to get comments\n",
    "#Note I have already done this and removed my reddit username and password\n",
    "import pandas as pd\n",
    "import praw\n",
    "\n",
    "reddit = praw.Reddit(client_id=\"\",\n",
    "                     client_secret=\"\",\n",
    "                     user_agent=\"Python data scrap for analyses ()\",\n",
    "                     username=\"\",\n",
    "                     password=\"!\")\n",
    "\n",
    "comments=[]\n",
    "subreddit_list = ['Politics', 'worldnews', 'news']\n",
    "for subreddits in subreddit_list:\n",
    "    hot = reddit.subreddit(subreddits).top(limit=100, time_filter='month')\n",
    "    sub = subreddits\n",
    "    for submission in hot:\n",
    "        print(submission.title)\n",
    "        submission.comments.replace_more(limit=10)\n",
    "        for comment in submission.comments.list():\n",
    "            if type(comment.parent()) == praw.models.reddit.submission.Submission:\n",
    "                comment.parent().body = 'NaN'\n",
    "                comment.parent().score = 'NaN'\n",
    "            comments.append([sub, submission.title, comment.author, comment.score, comment.body, comment.created_utc, comment.parent().body, comment.parent().score])\n",
    "        \n",
    "        "
   ]
  },
  {
   "cell_type": "code",
   "execution_count": 12,
   "metadata": {},
   "outputs": [],
   "source": [
    "#Import the dataset\n",
    "import pandas as pd\n",
    "df = pd.read_csv('C:/Users/Pablo/Documents/Data Challenges/Reddit/Datasets/politics_comments.csv')"
   ]
  },
  {
   "cell_type": "code",
   "execution_count": 13,
   "metadata": {},
   "outputs": [],
   "source": [
    "#Lets define some religious text (non extensive of course)\n",
    "christian_text = ('god|christian|jesus|faith|church|catholic|protestant|evangelical|christ|lord|baptist|orthodox|worship|bible|lutheran')\n",
    "judiasm_text = ('judaism|jew|isreal|holocaust|hebrew|passover|synagogue|yiddish|jewish|isrealite|hannukah|yom kippur')\n",
    "islam_text = ('muslim|sunni|islam|islamic|arabic|islamist|muhammad|shiite')\n",
    "#now, create a variable in the data set for mentions of the text. \n",
    "#The text column is the one of interest\n",
    "df['christian_text'] = df['body'].str.contains(christian_text, case = False)\n",
    "df['judiasm_text'] = df['body'].str.contains(judiasm_text, case = False)\n",
    "df['islam_text'] = df['body'].str.contains(islam_text, case = False)\n",
    "df['religion_text'] = df['body'].str.contains('religion', case = False)"
   ]
  },
  {
   "cell_type": "markdown",
   "metadata": {},
   "source": [
    "# Conduct sentiment analyses on the comments "
   ]
  },
  {
   "cell_type": "code",
   "execution_count": null,
   "metadata": {},
   "outputs": [],
   "source": [
    "#conduct sentiment analyses on the comments \n",
    "#This takes a while so I will have a df ready in the next cell\n",
    "\n",
    "import pandas as pd\n",
    "import nltk\n",
    "from nltk.sentiment.vader import SentimentIntensityAnalyzer\n",
    "nltk.download('vader_lexicon')\n",
    "nltk.download('punkt')\n",
    "df = pd.read_csv('C:/Users/dsmit/Documents/Data Challenges/Reddit/Datasets/comments_processed.csv')\n",
    "#Our goal here is to conduct sentiment analyses of the comments\n",
    "df = df.dropna(subset=['body'])\n",
    "sid = SentimentIntensityAnalyzer()\n",
    "df2 = pd.DataFrame()\n",
    "\n",
    "\n",
    "for i in df['body']:\n",
    "    scores = sid.polarity_scores(i)\n",
    "\n",
    "    #for key in sorted(scores):\n",
    "        #print('{0}: {1} '.format(key, scores[key]), end='')\n",
    "\n",
    "    if scores[\"compound\"] >= 0.05:\n",
    "        df2.loc[i,'sentiment1'] = 'positive'\n",
    "\n",
    "    elif scores[\"compound\"] <= -0.05:\n",
    "        df2.loc[i,'sentiment1'] = 'negative'\n",
    "    else:\n",
    "        df2.loc[i,'sentiment1'] = 'neutral'\n",
    " \n",
    "df.reset_index(drop=True, inplace=True)\n",
    "df2.reset_index(drop=True, inplace=True)      \n",
    "df = pd.concat([df, df2], axis=1)"
   ]
  },
  {
   "cell_type": "markdown",
   "metadata": {},
   "source": [
    "# Adjust the dataset so we can plot"
   ]
  },
  {
   "cell_type": "code",
   "execution_count": 9,
   "metadata": {},
   "outputs": [],
   "source": [
    "import pandas as pd\n",
    "\n",
    "df = pd.read_csv('C:/Users\\Pablo\\Documents\\Data Challenges\\Reddit\\Datasets\\comments_processed_sentiment.csv')\n",
    "\n",
    "#try to plot it \n",
    "dfreligion = df[['score', 'christian_text', 'judiasm_text', 'islam_text', 'religion_text', 'sentiment1']]\n",
    "\n",
    "dfreligion.loc[dfreligion['christian_text'] == True, 'christian_text'] = dfreligion['score']\n",
    "dfreligion.loc[dfreligion['judiasm_text'] == True, 'judiasm_text'] = dfreligion['score']\n",
    "dfreligion.loc[dfreligion['islam_text'] == True, 'islam_text'] = dfreligion['score']\n",
    "dfreligion.loc[dfreligion['religion_text'] == True, 'religion_text'] = dfreligion['score']\n",
    "\n",
    "dfreligion = dfreligion[['christian_text', 'judiasm_text', 'islam_text', 'religion_text', 'sentiment1']]\n",
    "dfreligionlong = pd.melt(dfreligion, id_vars=['sentiment1'], var_name = 'group',  value_name = 'score')\n",
    "dfreligionlong = dfreligionlong[dfreligionlong.score != False]\n",
    "dfreligionlong['score'] = dfreligionlong.score.astype(float)\n",
    "\n",
    "#now we  (I'm not sure these numbers add up tbh but whatever)\n",
    "gr = dfreligionlong.groupby(['group', 'sentiment1'])['score'].aggregate(['mean','sem'])\n"
   ]
  },
  {
   "cell_type": "markdown",
   "metadata": {},
   "source": [
    "# Plot"
   ]
  },
  {
   "cell_type": "code",
   "execution_count": 10,
   "metadata": {},
   "outputs": [
    {
     "data": {
      "text/plain": [
       "[Text(0, 0, 'Christianity'),\n",
       " Text(0, 0, 'Judaism'),\n",
       " Text(0, 0, 'Islam'),\n",
       " Text(0, 0, 'General Religion')]"
      ]
     },
     "execution_count": 10,
     "metadata": {},
     "output_type": "execute_result"
    },
    {
     "data": {
      "image/png": "[encoded data removed]",
      "text/plain": [
       "<Figure size 432x288 with 1 Axes>"
      ]
     },
     "metadata": {
      "needs_background": "light"
     },
     "output_type": "display_data"
    }
   ],
   "source": [
    "import seaborn as sns\n",
    "g = sns.barplot(data = dfreligionlong, ci = 95, errwidth=.5\n",
    "            ,x = 'group'\n",
    "            ,y = 'score', hue = 'sentiment1',\n",
    "            )\n",
    "plt.title(\"Average Comment Score by Religion and Text Sentiment\")\n",
    "plt.legend(title = 'Sentiment')\n",
    "g.set_xticklabels(['Christianity','Judaism','Islam', 'General Religion'])"
   ]
  },
  {
   "cell_type": "code",
   "execution_count": null,
   "metadata": {},
   "outputs": [],
   "source": []
  }
 ],
 "metadata": {
  "kernelspec": {
   "display_name": "Python 3",
   "language": "python",
   "name": "python3"
  },
  "language_info": {
   "codemirror_mode": {
    "name": "ipython",
    "version": 3
   },
   "file_extension": ".py",
   "mimetype": "text/x-python",
   "name": "python",
   "nbconvert_exporter": "python",
   "pygments_lexer": "ipython3",
   "version": "3.7.7"
  }
 },
 "nbformat": 4,
 "nbformat_minor": 4
}
