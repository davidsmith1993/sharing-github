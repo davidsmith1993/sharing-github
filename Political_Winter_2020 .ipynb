{
 "cells": [
  {
   "cell_type": "markdown",
   "metadata": {},
   "source": [
    "# Comparing Reddit Comment Scores Based on Political Text"
   ]
  },
  {
   "cell_type": "markdown",
   "metadata": {},
   "source": [
    "This is a graph looking at the avereage comment score on Reddit for comments that mention words associated with Republicans, Democrats, or General Political comments.\n"
   ]
  },
  {
   "cell_type": "code",
   "execution_count": null,
   "metadata": {},
   "outputs": [],
   "source": [
    "#First we need to get comments\n",
    "#Note I have already done this and removed my reddit username and password\n",
    "import pandas as pd\n",
    "import praw\n",
    "\n",
    "reddit = praw.Reddit(client_id=\"\",\n",
    "                     client_secret=\"\",\n",
    "                     user_agent=\"Python data scrap for analyses ()\",\n",
    "                     username=\"\",\n",
    "                     password=\"!\")\n",
    "\n",
    "comments=[]\n",
    "subreddit_list = ['Politics', 'worldnews', 'news']\n",
    "for subreddits in subreddit_list:\n",
    "    hot = reddit.subreddit(subreddits).top(limit=100, time_filter='month')\n",
    "    sub = subreddits\n",
    "    for submission in hot:\n",
    "        print(submission.title)\n",
    "        submission.comments.replace_more(limit=10)\n",
    "        for comment in submission.comments.list():\n",
    "            if type(comment.parent()) == praw.models.reddit.submission.Submission:\n",
    "                comment.parent().body = 'NaN'\n",
    "                comment.parent().score = 'NaN'\n",
    "            comments.append([sub, submission.title, comment.author, comment.score, comment.body, comment.created_utc, comment.parent().body, comment.parent().score])\n",
    "        \n",
    "        "
   ]
  },
  {
   "cell_type": "code",
   "execution_count": 12,
   "metadata": {},
   "outputs": [],
   "source": [
    "#Import the dataset\n",
    "import pandas as pd\n",
    "df = pd.read_csv('C:/Users/Pablo/Documents/Data Challenges/Reddit/Datasets/politics_comments.csv')"
   ]
  },
  {
   "cell_type": "code",
   "execution_count": 13,
   "metadata": {},
   "outputs": [],
   "source": [
    "#Look at politics too\n",
    "Republican_text = ('Donald|Trump|DonaldTrump|Pence|Romney|Reagan|Gop|Polanski|Republican|conservative|Mccain')\n",
    "Democrat_text = ('Clinton|Hillary|Sanders|Yang|Bernie|Sanders|Biden|Obama|Barack|Democrat|Pelosi|Huckabee')\n",
    "Politics_text = ('politic|politics|president|government|political|state|politicion|vote|law|governor|court|supreme|justice|police|federal|office|impeach|political party|dictator|legal|illegal|lobby')\n",
    "\n",
    "\n",
    "df['Republican_text'] = df['body'].str.contains(Republican_text, case = False)\n",
    "df['Democrat_text'] = df['body'].str.contains(Democrat_text, case = False)\n",
    "df['Politics_text'] = df['body'].str.contains(Politics_text, case = False)\n"
   ]
  },
  {
   "cell_type": "markdown",
   "metadata": {},
   "source": [
    "# Conduct sentiment analyses on the comments "
   ]
  },
  {
   "cell_type": "code",
   "execution_count": null,
   "metadata": {},
   "outputs": [],
   "source": [
    "#conduct sentiment analyses on the comments \n",
    "#This takes a while so I will have a df ready in the next cell\n",
    "\n",
    "import pandas as pd\n",
    "import nltk\n",
    "from nltk.sentiment.vader import SentimentIntensityAnalyzer\n",
    "nltk.download('vader_lexicon')\n",
    "nltk.download('punkt')\n",
    "df = pd.read_csv('C:/Users/dsmit/Documents/Data Challenges/Reddit/Datasets/comments_processed.csv')\n",
    "#Our goal here is to conduct sentiment analyses of the comments\n",
    "df = df.dropna(subset=['body'])\n",
    "sid = SentimentIntensityAnalyzer()\n",
    "df2 = pd.DataFrame()\n",
    "\n",
    "\n",
    "for i in df['body']:\n",
    "    scores = sid.polarity_scores(i)\n",
    "\n",
    "    #for key in sorted(scores):\n",
    "        #print('{0}: {1} '.format(key, scores[key]), end='')\n",
    "\n",
    "    if scores[\"compound\"] >= 0.05:\n",
    "        df2.loc[i,'sentiment1'] = 'positive'\n",
    "\n",
    "    elif scores[\"compound\"] <= -0.05:\n",
    "        df2.loc[i,'sentiment1'] = 'negative'\n",
    "    else:\n",
    "        df2.loc[i,'sentiment1'] = 'neutral'\n",
    " \n",
    "df.reset_index(drop=True, inplace=True)\n",
    "df2.reset_index(drop=True, inplace=True)      \n",
    "df = pd.concat([df, df2], axis=1)"
   ]
  },
  {
   "cell_type": "markdown",
   "metadata": {},
   "source": [
    "# Adjust the dataset so we can plot"
   ]
  },
  {
   "cell_type": "code",
   "execution_count": 1,
   "metadata": {},
   "outputs": [
    {
     "name": "stderr",
     "output_type": "stream",
     "text": [
      "C:\\Users\\Pablo\\Anaconda3\\lib\\site-packages\\pandas\\core\\indexing.py:966: SettingWithCopyWarning: \n",
      "A value is trying to be set on a copy of a slice from a DataFrame.\n",
      "Try using .loc[row_indexer,col_indexer] = value instead\n",
      "\n",
      "See the caveats in the documentation: https://pandas.pydata.org/pandas-docs/stable/user_guide/indexing.html#returning-a-view-versus-a-copy\n",
      "  self.obj[item] = s\n"
     ]
    }
   ],
   "source": [
    "import pandas as pd\n",
    "\n",
    "df = pd.read_csv('C:/Users\\Pablo\\Documents\\Data Challenges\\Reddit\\Datasets\\comments_processed_sentiment.csv')\n",
    "\n",
    "\n",
    "dfpolitics = df[['score', 'Republican_text', 'Democrat_text', 'Politics_text', 'sentiment1']]\n",
    "\n",
    "dfpolitics.loc[dfpolitics['Republican_text'] == True, 'Republican_text'] = dfpolitics['score']\n",
    "dfpolitics.loc[dfpolitics['Democrat_text'] == True, 'Democrat_text'] = dfpolitics['score']\n",
    "dfpolitics.loc[dfpolitics['Politics_text'] == True, 'Politics_text'] = dfpolitics['score']\n",
    "\n",
    "\n",
    "dfpolitics = dfpolitics[['Republican_text', 'Democrat_text', 'Politics_text',  'sentiment1']]\n",
    "dfpoliticslong = pd.melt(dfpolitics, id_vars=['sentiment1'], var_name = 'group',  value_name = 'score')\n",
    "dfpoliticslong = dfpoliticslong[dfpoliticslong.score != False]\n",
    "dfpoliticslong['score'] = dfpoliticslong.score.astype(float)\n"
   ]
  },
  {
   "cell_type": "markdown",
   "metadata": {},
   "source": [
    "# Plot"
   ]
  },
  {
   "cell_type": "code",
   "execution_count": 3,
   "metadata": {},
   "outputs": [
    {
     "data": {
      "text/plain": [
       "[Text(0, 0, 'Republican'),\n",
       " Text(0, 0, 'Democrat'),\n",
       " Text(0, 0, 'General Politics')]"
      ]
     },
     "execution_count": 3,
     "metadata": {},
     "output_type": "execute_result"
    },
    {
     "data": {
      "image/png": "[encoded data removed]",
      "text/plain": [
       "<Figure size 432x288 with 1 Axes>"
      ]
     },
     "metadata": {},
     "output_type": "display_data"
    }
   ],
   "source": [
    "import seaborn as sns\n",
    "from matplotlib import pyplot as plt\n",
    "sns.set()\n",
    "sns.set_palette(\"Paired\")\n",
    "g = sns.barplot(data = dfpoliticslong, ci = 95, errwidth=.5\n",
    "            ,x = 'group'\n",
    "            ,y = 'score', hue = 'sentiment1',\n",
    "            )\n",
    "plt.title(\"Average Comment Score by Politics and Text Sentiment\")\n",
    "plt.legend(title = 'Sentiment')\n",
    "g.set_xticklabels(['Republican','Democrat','General Politics'])"
   ]
  },
  {
   "cell_type": "code",
   "execution_count": null,
   "metadata": {},
   "outputs": [],
   "source": []
  }
 ],
 "metadata": {
  "kernelspec": {
   "display_name": "Python 3",
   "language": "python",
   "name": "python3"
  },
  "language_info": {
   "codemirror_mode": {
    "name": "ipython",
    "version": 3
   },
   "file_extension": ".py",
   "mimetype": "text/x-python",
   "name": "python",
   "nbconvert_exporter": "python",
   "pygments_lexer": "ipython3",
   "version": "3.7.7"
  }
 },
 "nbformat": 4,
 "nbformat_minor": 4
}
